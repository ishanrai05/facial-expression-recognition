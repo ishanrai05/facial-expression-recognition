{
  "nbformat": 4,
  "nbformat_minor": 0,
  "metadata": {
    "colab": {
      "name": "facial-expression-recognition.ipynb",
      "provenance": []
    },
    "kernelspec": {
      "name": "python3",
      "display_name": "Python 3"
    },
    "accelerator": "GPU"
  },
  "cells": [
    {
      "cell_type": "markdown",
      "metadata": {
        "colab_type": "text",
        "id": "ljGqi6Q2udSK"
      },
      "source": [
        ""
      ]
    },
    {
      "cell_type": "code",
      "metadata": {
        "id": "DaC7-hqrugAp",
        "colab_type": "code",
        "colab": {}
      },
      "source": [
        "from google.colab import drive\n",
        "drive.mount('/content/drive')"
      ],
      "execution_count": 0,
      "outputs": []
    },
    {
      "cell_type": "code",
      "metadata": {
        "id": "r5uyZOMGnbDn",
        "colab_type": "code",
        "outputId": "32c4da70-4c6f-4601-9afd-a28e39b15d17",
        "colab": {
          "base_uri": "https://localhost:8080/",
          "height": 35
        }
      },
      "source": [
        "!ls drive"
      ],
      "execution_count": 0,
      "outputs": [
        {
          "output_type": "stream",
          "text": [
            "'My Drive'\n"
          ],
          "name": "stdout"
        }
      ]
    },
    {
      "cell_type": "markdown",
      "metadata": {
        "id": "PxCOLjj6uVhF",
        "colab_type": "text"
      },
      "source": [
        "The data consists of 48x48 pixel grayscale images of faces. The faces have been automatically registered so that the face is more or less centered and occupies about the same amount of space in each image. The task is to categorize each face based on the emotion shown in the facial expression in to one of seven categories (0=Angry, 1=Disgust, 2=Fear, 3=Happy, 4=Sad, 5=Surprise, 6=Neutral).\n",
        "\n",
        "train.csv contains two columns, \"emotion\" and \"pixels\". The \"emotion\" column contains a numeric code ranging from 0 to 6, inclusive, for the emotion that is present in the image. The \"pixels\" column contains a string surrounded in quotes for each image. The contents of this string a space-separated pixel values in row major order. test.csv contains only the \"pixels\" column and your task is to predict the emotion column.\n",
        "\n",
        "The training set consists of 28,709 examples."
      ]
    },
    {
      "cell_type": "code",
      "metadata": {
        "colab_type": "code",
        "id": "t2V7gPMySANW",
        "colab": {}
      },
      "source": [
        "import os\n",
        "from glob import glob\n",
        "from tqdm import tqdm\n",
        "import math\n",
        "\n",
        "# helper libraries\n",
        "import cv2\n",
        "import numpy as np\n",
        "import pandas as pd\n",
        "from PIL import Image\n",
        "import matplotlib.pyplot as plt\n",
        "import matplotlib.image as mpimg\n",
        "%matplotlib inline\n",
        "plt.ion()   # interactive mode\n",
        "\n",
        "# pytorch libraries\n",
        "import torch\n",
        "import torch.nn as nn\n",
        "import torch.optim as optim\n",
        "import torch.nn.functional as F\n",
        "from torch.autograd import Variable\n",
        "import torchvision\n",
        "from torchvision import transforms, models\n",
        "from torch.utils.data import DataLoader, Dataset\n",
        "\n",
        "# sklearn libraries\n",
        "from sklearn.metrics import confusion_matrix\n",
        "from sklearn.model_selection import train_test_split\n",
        "from sklearn.metrics import classification_report"
      ],
      "execution_count": 0,
      "outputs": []
    },
    {
      "cell_type": "code",
      "metadata": {
        "id": "d_zSuDEfnpa5",
        "colab_type": "code",
        "outputId": "e0c237b0-b4de-4426-cd7e-8d9b2fa68474",
        "colab": {
          "base_uri": "https://localhost:8080/",
          "height": 35
        }
      },
      "source": [
        "root = os.path.join('./','drive','My Drive','dl_data','fer2013')\n",
        "root"
      ],
      "execution_count": 0,
      "outputs": [
        {
          "output_type": "execute_result",
          "data": {
            "text/plain": [
              "'./drive/My Drive/dl_data/fer2013'"
            ]
          },
          "metadata": {
            "tags": []
          },
          "execution_count": 3
        }
      ]
    },
    {
      "cell_type": "code",
      "metadata": {
        "colab_type": "code",
        "id": "tBuWGPCxR_LT",
        "colab": {}
      },
      "source": [
        "base_dir = os.path.join(root,'fer2013.csv')\n",
        "df_initial = pd.read_csv(base_dir)\n",
        "emotion_type_dict = {\n",
        "    0:\"Angry\",\n",
        "    1:\"Disgust\",\n",
        "    2:\"Fear\",\n",
        "    3:\"Happy\",\n",
        "    4:\"Sad\",\n",
        "    5:\"Surprise\", \n",
        "    6:\"Neutral\"\n",
        "}\n",
        "# df_initial.sample(5)\n",
        "width = height = int(math.sqrt(len(df_initial['pixels'].iloc[0].split())))\n",
        "df_initial['EmotionType'] = df_initial['emotion'].map(emotion_type_dict.get)"
      ],
      "execution_count": 0,
      "outputs": []
    },
    {
      "cell_type": "markdown",
      "metadata": {
        "id": "p4CEpxfvnLMn",
        "colab_type": "text"
      },
      "source": [
        "the images in the csv file are stored with the corresponding pixel values on each row and preprocessing on the data is required"
      ]
    },
    {
      "cell_type": "code",
      "metadata": {
        "id": "N6M0CyTHnMqy",
        "colab_type": "code",
        "outputId": "7202764e-7683-493c-9d39-124cba07f633",
        "colab": {
          "base_uri": "https://localhost:8080/",
          "height": 204
        }
      },
      "source": [
        "df_initial.head(5)"
      ],
      "execution_count": 0,
      "outputs": [
        {
          "output_type": "execute_result",
          "data": {
            "text/html": [
              "<div>\n",
              "<style scoped>\n",
              "    .dataframe tbody tr th:only-of-type {\n",
              "        vertical-align: middle;\n",
              "    }\n",
              "\n",
              "    .dataframe tbody tr th {\n",
              "        vertical-align: top;\n",
              "    }\n",
              "\n",
              "    .dataframe thead th {\n",
              "        text-align: right;\n",
              "    }\n",
              "</style>\n",
              "<table border=\"1\" class=\"dataframe\">\n",
              "  <thead>\n",
              "    <tr style=\"text-align: right;\">\n",
              "      <th></th>\n",
              "      <th>emotion</th>\n",
              "      <th>pixels</th>\n",
              "      <th>Usage</th>\n",
              "      <th>EmotionType</th>\n",
              "    </tr>\n",
              "  </thead>\n",
              "  <tbody>\n",
              "    <tr>\n",
              "      <th>0</th>\n",
              "      <td>0</td>\n",
              "      <td>70 80 82 72 58 58 60 63 54 58 60 48 89 115 121...</td>\n",
              "      <td>Training</td>\n",
              "      <td>Angry</td>\n",
              "    </tr>\n",
              "    <tr>\n",
              "      <th>1</th>\n",
              "      <td>0</td>\n",
              "      <td>151 150 147 155 148 133 111 140 170 174 182 15...</td>\n",
              "      <td>Training</td>\n",
              "      <td>Angry</td>\n",
              "    </tr>\n",
              "    <tr>\n",
              "      <th>2</th>\n",
              "      <td>2</td>\n",
              "      <td>231 212 156 164 174 138 161 173 182 200 106 38...</td>\n",
              "      <td>Training</td>\n",
              "      <td>Fear</td>\n",
              "    </tr>\n",
              "    <tr>\n",
              "      <th>3</th>\n",
              "      <td>4</td>\n",
              "      <td>24 32 36 30 32 23 19 20 30 41 21 22 32 34 21 1...</td>\n",
              "      <td>Training</td>\n",
              "      <td>Sad</td>\n",
              "    </tr>\n",
              "    <tr>\n",
              "      <th>4</th>\n",
              "      <td>6</td>\n",
              "      <td>4 0 0 0 0 0 0 0 0 0 0 0 3 15 23 28 48 50 58 84...</td>\n",
              "      <td>Training</td>\n",
              "      <td>Neutral</td>\n",
              "    </tr>\n",
              "  </tbody>\n",
              "</table>\n",
              "</div>"
            ],
            "text/plain": [
              "   emotion  ... EmotionType\n",
              "0        0  ...       Angry\n",
              "1        0  ...       Angry\n",
              "2        2  ...        Fear\n",
              "3        4  ...         Sad\n",
              "4        6  ...     Neutral\n",
              "\n",
              "[5 rows x 4 columns]"
            ]
          },
          "metadata": {
            "tags": []
          },
          "execution_count": 5
        }
      ]
    },
    {
      "cell_type": "code",
      "metadata": {
        "id": "LMLhmTp1uKsr",
        "colab_type": "code",
        "outputId": "fce5a514-aacb-4e65-f556-d1be6e9aaaab",
        "colab": {
          "base_uri": "https://localhost:8080/",
          "height": 35
        }
      },
      "source": [
        "!ls"
      ],
      "execution_count": 0,
      "outputs": [
        {
          "output_type": "stream",
          "text": [
            "drive  sample_data\n"
          ],
          "name": "stdout"
        }
      ]
    },
    {
      "cell_type": "code",
      "metadata": {
        "id": "q8YFgTlXur1R",
        "colab_type": "code",
        "colab": {}
      },
      "source": [
        "faces = []\n",
        "pixels = df_initial['pixels'].tolist()\n",
        "for sequence in pixels:\n",
        "    face = [int(pixel) for pixel in sequence.split()]\n",
        "    face = np.asarray(face).reshape(width, height)\n",
        "    faces.append(face.astype(np.uint8))\n",
        "faces = np.asarray(faces)"
      ],
      "execution_count": 0,
      "outputs": []
    },
    {
      "cell_type": "code",
      "metadata": {
        "id": "N-2HRTrcwYbo",
        "colab_type": "code",
        "colab": {}
      },
      "source": [
        ""
      ],
      "execution_count": 0,
      "outputs": []
    },
    {
      "cell_type": "code",
      "metadata": {
        "id": "c02KYG-sxFah",
        "colab_type": "code",
        "outputId": "05c1583c-3d57-4f2c-c037-a8d0f15eaa4d",
        "colab": {
          "base_uri": "https://localhost:8080/",
          "height": 396
        }
      },
      "source": [
        "w, h = 8, 8\n",
        "fig = plt.figure(figsize=(20, 5))\n",
        "columns, rows = 8, 2\n",
        "start, end = 0, len(faces) -1\n",
        "ax = []\n",
        "import random\n",
        "for i in range(columns*rows):\n",
        "    k = random.randint(start, end)\n",
        "    img = faces[k]\n",
        "    title = (df_initial.iloc[k,0])\n",
        "    title = emotion_type_dict[title]\n",
        "    # create subplot and append to ax\n",
        "    ax.append( fig.add_subplot(rows, columns, i+1) )\n",
        "    ax[-1].set_title(title)  # set title\n",
        "    plt.xticks([])\n",
        "    plt.yticks([])\n",
        "    plt.imshow(img, cmap=\"gray\")\n",
        "plt.tight_layout(True)\n",
        "plt.show()  # finally, render the plot"
      ],
      "execution_count": 0,
      "outputs": [
        {
          "output_type": "display_data",
          "data": {
            "image/png": "[encoded data removed]",
            "text/plain": [
              "<Figure size 1440x360 with 16 Axes>"
            ]
          },
          "metadata": {
            "tags": []
          }
        }
      ]
    },
    {
      "cell_type": "code",
      "metadata": {
        "id": "xytt53jBHDhL",
        "colab_type": "code",
        "outputId": "697ec1c1-398b-4dff-83df-266b6ab860e4",
        "colab": {
          "base_uri": "https://localhost:8080/",
          "height": 161
        }
      },
      "source": [
        "df_initial['emotion'].value_counts()"
      ],
      "execution_count": 0,
      "outputs": [
        {
          "output_type": "execute_result",
          "data": {
            "text/plain": [
              "3    8989\n",
              "6    6198\n",
              "4    6077\n",
              "2    5121\n",
              "0    4953\n",
              "5    4002\n",
              "1     547\n",
              "Name: emotion, dtype: int64"
            ]
          },
          "metadata": {
            "tags": []
          },
          "execution_count": 9
        }
      ]
    },
    {
      "cell_type": "code",
      "metadata": {
        "id": "DymthiMdJfTK",
        "colab_type": "code",
        "outputId": "e770a632-998c-41dc-910f-fce116718aec",
        "colab": {
          "base_uri": "https://localhost:8080/",
          "height": 89
        }
      },
      "source": [
        "df_initial['Usage'].value_counts()"
      ],
      "execution_count": 0,
      "outputs": [
        {
          "output_type": "execute_result",
          "data": {
            "text/plain": [
              "Training       28709\n",
              "PublicTest      3589\n",
              "PrivateTest     3589\n",
              "Name: Usage, dtype: int64"
            ]
          },
          "metadata": {
            "tags": []
          },
          "execution_count": 10
        }
      ]
    },
    {
      "cell_type": "code",
      "metadata": {
        "id": "NAQlpQESNh6h",
        "colab_type": "code",
        "colab": {}
      },
      "source": [
        ""
      ],
      "execution_count": 0,
      "outputs": []
    },
    {
      "cell_type": "code",
      "metadata": {
        "id": "7NgwTwqeNshv",
        "colab_type": "code",
        "colab": {}
      },
      "source": [
        "df_train = df_initial[df_initial['Usage']=='Training']\n",
        "df_test = df_initial[df_initial['Usage']=='PublicTest']\n",
        "df_val = df_initial[df_initial['Usage']=='PrivateTest']"
      ],
      "execution_count": 0,
      "outputs": []
    },
    {
      "cell_type": "code",
      "metadata": {
        "id": "clj2IRZgObaH",
        "colab_type": "code",
        "outputId": "b636f90f-3604-4b11-dad5-30e4cc09c1e7",
        "colab": {
          "base_uri": "https://localhost:8080/",
          "height": 319
        }
      },
      "source": [
        "import seaborn as sns\n",
        "sns.countplot(data=df_initial,x='Usage',hue='EmotionType')\n",
        "plt.figure(figsize=(15,7))\n",
        "\n",
        "\n"
      ],
      "execution_count": 0,
      "outputs": [
        {
          "output_type": "execute_result",
          "data": {
            "text/plain": [
              "<Figure size 1080x504 with 0 Axes>"
            ]
          },
          "metadata": {
            "tags": []
          },
          "execution_count": 12
        },
        {
          "output_type": "display_data",
          "data": {
            "image/png": "[encoded data removed]",
            "text/plain": [
              "<Figure size 432x288 with 1 Axes>"
            ]
          },
          "metadata": {
            "tags": []
          }
        },
        {
          "output_type": "display_data",
          "data": {
            "text/plain": [
              "<Figure size 1080x504 with 0 Axes>"
            ]
          },
          "metadata": {
            "tags": []
          }
        }
      ]
    },
    {
      "cell_type": "code",
      "metadata": {
        "colab_type": "code",
        "outputId": "e1d14726-de1b-44fa-ca37-3e1319d0b65f",
        "id": "-LidvrVjZNvM",
        "colab": {
          "base_uri": "https://localhost:8080/",
          "height": 319
        }
      },
      "source": [
        "\n",
        "sns.countplot(data=df_train,x='EmotionType')\n",
        "plt.figure(figsize=(15,7))"
      ],
      "execution_count": 0,
      "outputs": [
        {
          "output_type": "execute_result",
          "data": {
            "text/plain": [
              "<Figure size 1080x504 with 0 Axes>"
            ]
          },
          "metadata": {
            "tags": []
          },
          "execution_count": 13
        },
        {
          "output_type": "display_data",
          "data": {
            "image/png": "[encoded data removed]",
            "text/plain": [
              "<Figure size 432x288 with 1 Axes>"
            ]
          },
          "metadata": {
            "tags": []
          }
        },
        {
          "output_type": "display_data",
          "data": {
            "text/plain": [
              "<Figure size 1080x504 with 0 Axes>"
            ]
          },
          "metadata": {
            "tags": []
          }
        }
      ]
    },
    {
      "cell_type": "markdown",
      "metadata": {
        "id": "ZjisEhkzS6sO",
        "colab_type": "text"
      },
      "source": [
        "From From the above statistics of each category, we can see that there is a serious class imbalance in the training data. To solve this problem, I think we can start from two aspects, one is equalization sampling, and the other is a loss function that can be used to mitigate category imbalance during training, such as focal loss."
      ]
    },
    {
      "cell_type": "code",
      "metadata": {
        "id": "a6YFAD1-Ofnj",
        "colab_type": "code",
        "outputId": "4b519a46-40c3-4860-cf15-121142c80b13",
        "colab": {
          "base_uri": "https://localhost:8080/",
          "height": 161
        }
      },
      "source": [
        "data_count = df_train['emotion'].value_counts()\n",
        "max_data = max(data_count)\n",
        "data_aug_rate = list()\n",
        "for i in range(len(data_count)):\n",
        "    data_aug_rate.append(int(round(max_data/data_count[i]))-1)\n",
        "\n",
        "# Copy fewer class to balance the number of 7 classes\n",
        "for i in range(7):\n",
        "    if data_aug_rate[i]:\n",
        "        df_train=df_train.append([df_train.loc[df_train['emotion'] == i,:]]*(data_aug_rate[i]), ignore_index=True)\n",
        "df_train['emotion'].value_counts()"
      ],
      "execution_count": 0,
      "outputs": [
        {
          "output_type": "execute_result",
          "data": {
            "text/plain": [
              "2    8194\n",
              "0    7990\n",
              "1    7412\n",
              "3    7215\n",
              "5    6342\n",
              "6    4965\n",
              "4    4830\n",
              "Name: emotion, dtype: int64"
            ]
          },
          "metadata": {
            "tags": []
          },
          "execution_count": 14
        }
      ]
    },
    {
      "cell_type": "code",
      "metadata": {
        "id": "rACu9PvpYx1p",
        "colab_type": "code",
        "outputId": "5107580f-29e1-4fb4-fc02-3b5f35cb6449",
        "colab": {
          "base_uri": "https://localhost:8080/",
          "height": 319
        }
      },
      "source": [
        "sns.countplot(data=df_train,x='EmotionType')\n",
        "plt.figure(figsize=(15,7))"
      ],
      "execution_count": 0,
      "outputs": [
        {
          "output_type": "execute_result",
          "data": {
            "text/plain": [
              "<Figure size 1080x504 with 0 Axes>"
            ]
          },
          "metadata": {
            "tags": []
          },
          "execution_count": 15
        },
        {
          "output_type": "display_data",
          "data": {
            "image/png": "[encoded data removed]",
            "text/plain": [
              "<Figure size 432x288 with 1 Axes>"
            ]
          },
          "metadata": {
            "tags": []
          }
        },
        {
          "output_type": "display_data",
          "data": {
            "text/plain": [
              "<Figure size 1080x504 with 0 Axes>"
            ]
          },
          "metadata": {
            "tags": []
          }
        }
      ]
    },
    {
      "cell_type": "markdown",
      "metadata": {
        "id": "_KNC4pQZarQS",
        "colab_type": "text"
      },
      "source": [
        "Now, this is a much balanced dataset. We can start training on this."
      ]
    },
    {
      "cell_type": "code",
      "metadata": {
        "id": "eRuL8FA7YyUt",
        "colab_type": "code",
        "colab": {}
      },
      "source": [
        ""
      ],
      "execution_count": 0,
      "outputs": []
    },
    {
      "cell_type": "code",
      "metadata": {
        "id": "FbO3o6U6Z3eu",
        "colab_type": "code",
        "outputId": "7484a15f-3b4a-4528-d2a3-240d89d2c359",
        "colab": {
          "base_uri": "https://localhost:8080/",
          "height": 35
        }
      },
      "source": [
        "len(df_val)"
      ],
      "execution_count": 0,
      "outputs": [
        {
          "output_type": "execute_result",
          "data": {
            "text/plain": [
              "3589"
            ]
          },
          "metadata": {
            "tags": []
          },
          "execution_count": 16
        }
      ]
    },
    {
      "cell_type": "code",
      "metadata": {
        "id": "8U2jryS2bYVI",
        "colab_type": "code",
        "colab": {}
      },
      "source": [
        ""
      ],
      "execution_count": 0,
      "outputs": []
    },
    {
      "cell_type": "code",
      "metadata": {
        "id": "qwM4Dh8-MAy7",
        "colab_type": "code",
        "colab": {}
      },
      "source": [
        "def arr_to_img(arr):\n",
        "    return np.asarray([int(pixel) for pixel in arr.split()]).reshape(width, height).astype(np.uint8)"
      ],
      "execution_count": 0,
      "outputs": []
    },
    {
      "cell_type": "code",
      "metadata": {
        "id": "cy-HvHTa03pd",
        "colab_type": "code",
        "colab": {}
      },
      "source": [
        "def compute_img_mean_std(img_arr):\n",
        "    # computing the mean and std of on the whole dataset\n",
        "    \n",
        "    imgs = [np.asarray(i.flatten()) for i in img_arr]\n",
        "    imgs = np.asarray(imgs)\n",
        "#     imgs /= 255.0\n",
        "    means = np.mean(imgs)\n",
        "    stdevs = np.std(imgs)\n",
        "\n",
        "    print(\"normMean = {}\".format(means))\n",
        "    print(\"normStd = {}\".format(stdevs))\n",
        "    return means,stdevs"
      ],
      "execution_count": 0,
      "outputs": []
    },
    {
      "cell_type": "code",
      "metadata": {
        "id": "6jHj48Ft2Q75",
        "colab_type": "code",
        "outputId": "c0d80960-1427-402e-8472-3a0e8e4f5079",
        "colab": {
          "base_uri": "https://localhost:8080/",
          "height": 53
        }
      },
      "source": [
        "norm_mean, norm_std = compute_img_mean_std(faces)\n",
        "norm_mean = [norm_mean]\n",
        "norm_std = [norm_std]"
      ],
      "execution_count": 0,
      "outputs": [
        {
          "output_type": "stream",
          "text": [
            "normMean = 129.38585663274074\n",
            "normStd = 65.05789230083087\n"
          ],
          "name": "stdout"
        }
      ]
    },
    {
      "cell_type": "code",
      "metadata": {
        "id": "ca2_xPYUdYQY",
        "colab_type": "code",
        "colab": {}
      },
      "source": [
        "# Define a pytorch dataloader for this dataset\n",
        "class FRE2013(Dataset):\n",
        "    def __init__(self, df, transform=None):\n",
        "        self.df = df\n",
        "        self.transform = transform\n",
        "\n",
        "    def __len__(self):\n",
        "        return len(self.df)\n",
        "\n",
        "    def __getitem__(self, index):\n",
        "        # Load data and get label\n",
        "        X = arr_to_img(self.df['pixels'].iloc[index])\n",
        "        X = X[:, :, np.newaxis]\n",
        "        X = np.concatenate((X, X, X), axis=2)        \n",
        "        X = Image.fromarray(X)\n",
        "        y = torch.tensor(int(self.df['emotion'].iloc[index]))\n",
        "        if self.transform:\n",
        "            X = self.transform(X)\n",
        "\n",
        "        return X, y"
      ],
      "execution_count": 0,
      "outputs": []
    },
    {
      "cell_type": "code",
      "metadata": {
        "id": "2Dt1RiNZQ-SO",
        "colab_type": "code",
        "colab": {}
      },
      "source": [
        "# np.asarray(Image.fromarray(faces[0]).convert('LA')).shape\n",
        "# img = faces[2].flatten()\n",
        "# img = img[:, :, np.newaxis]\n",
        "# img = np.concatenate((img, img, img), axis=2)        \n",
        "# img = Image.fromarray(img)\n",
        "# np.asarray(img).shape"
      ],
      "execution_count": 0,
      "outputs": []
    },
    {
      "cell_type": "code",
      "metadata": {
        "id": "nYt8Frflerx3",
        "colab_type": "code",
        "colab": {}
      },
      "source": [
        "# norm_mean, norm_std = [0.5073955162068291], [0.2551289894150225]\n",
        "train_transform = transforms.Compose([\n",
        "                                      transforms.RandomCrop(44),\n",
        "                                      transforms.RandomHorizontalFlip(),\n",
        "                                      transforms.ToTensor(),\n",
        "                                      transforms.Normalize(norm_mean, norm_std),\n",
        "                                     ])\n",
        "# define the transformation of the val images.\n",
        "val_transform = transforms.Compose([transforms.ToTensor(),\n",
        "                                    transforms.Normalize(norm_mean, norm_std)])"
      ],
      "execution_count": 0,
      "outputs": []
    },
    {
      "cell_type": "code",
      "metadata": {
        "id": "c7qH4hL5fM4D",
        "colab_type": "code",
        "colab": {}
      },
      "source": [
        "# Define the training set using the table train_df and using our defined transitions (train_transform)\n",
        "training_set = FRE2013(df_train, transform=train_transform)\n",
        "train_loader = DataLoader(training_set, batch_size=64, shuffle=True, num_workers=4)\n",
        "# Same for the validation set:\n",
        "validation_set = FRE2013(df_val, transform=val_transform)\n",
        "val_loader = DataLoader(validation_set, batch_size=64, shuffle=False, num_workers=4)"
      ],
      "execution_count": 0,
      "outputs": []
    },
    {
      "cell_type": "code",
      "metadata": {
        "id": "NCAMqh_tfcVG",
        "colab_type": "code",
        "colab": {}
      },
      "source": [
        "# next(iter(train_loader))"
      ],
      "execution_count": 0,
      "outputs": []
    },
    {
      "cell_type": "code",
      "metadata": {
        "id": "dGai7hnYfizQ",
        "colab_type": "code",
        "colab": {}
      },
      "source": [
        "# feature_extract is a boolean that defines if we are finetuning or feature extracting. \n",
        "# If feature_extract = False, the model is finetuned and all model parameters are updated. \n",
        "# If feature_extract = True, only the last layer parameters are updated, the others remain fixed.\n",
        "def set_parameter_requires_grad(model, feature_extracting):\n",
        "    if feature_extracting:\n",
        "        for param in model.parameters():\n",
        "            param.requires_grad = False"
      ],
      "execution_count": 0,
      "outputs": []
    },
    {
      "cell_type": "code",
      "metadata": {
        "id": "FTGuiJaSpW_8",
        "colab_type": "code",
        "colab": {}
      },
      "source": [
        "def initialize_model(model_name, num_classes, feature_extract, use_pretrained=True):\n",
        "    # Initialize these variables which will be set in this if statement. Each of these\n",
        "    #   variables is model specific.\n",
        "    model_ft = None\n",
        "    input_size = 0\n",
        "\n",
        "    if model_name == \"resnet\":\n",
        "        \"\"\" Resnet18, resnet34, resnet50, resnet101\n",
        "        \"\"\"\n",
        "        model_ft = models.resnet50(pretrained=use_pretrained)\n",
        "        set_parameter_requires_grad(model_ft, feature_extract)\n",
        "        num_ftrs = model_ft.fc.in_features\n",
        "        model_ft.fc = nn.Linear(num_ftrs, num_classes)\n",
        "        input_size = 224\n",
        "\n",
        "\n",
        "    elif model_name == \"vgg\":\n",
        "        \"\"\" VGG11_bn\n",
        "        \"\"\"\n",
        "        model_ft = models.vgg11_bn(pretrained=use_pretrained)\n",
        "        set_parameter_requires_grad(model_ft, feature_extract)\n",
        "        num_ftrs = model_ft.classifier[6].in_features\n",
        "        model_ft.classifier[6] = nn.Linear(num_ftrs,num_classes)\n",
        "        input_size = 224\n",
        "\n",
        "\n",
        "    elif model_name == \"densenet\":\n",
        "        \"\"\" Densenet121\n",
        "        \"\"\"\n",
        "        model_ft = models.densenet121(pretrained=use_pretrained)\n",
        "        set_parameter_requires_grad(model_ft, feature_extract)\n",
        "        num_ftrs = model_ft.classifier.in_features\n",
        "        model_ft.classifier = nn.Linear(num_ftrs, num_classes)\n",
        "        input_size = 224\n",
        "\n",
        "    elif model_name == \"inception\":\n",
        "        \"\"\" Inception v3\n",
        "        Be careful, expects (299,299) sized images and has auxiliary output\n",
        "        \"\"\"\n",
        "        model_ft = models.inception_v3(pretrained=use_pretrained)\n",
        "        set_parameter_requires_grad(model_ft, feature_extract)\n",
        "        # Handle the auxilary net\n",
        "        num_ftrs = model_ft.AuxLogits.fc.in_features\n",
        "        model_ft.AuxLogits.fc = nn.Linear(num_ftrs, num_classes)\n",
        "        # Handle the primary net\n",
        "        num_ftrs = model_ft.fc.in_features\n",
        "        model_ft.fc = nn.Linear(num_ftrs,num_classes)\n",
        "        input_size = 299\n",
        "\n",
        "    else:\n",
        "        print(\"Invalid model name, exiting...\")\n",
        "        exit()\n",
        "    return model_ft, input_size"
      ],
      "execution_count": 0,
      "outputs": []
    },
    {
      "cell_type": "code",
      "metadata": {
        "id": "BNAWjJ2LpYvS",
        "colab_type": "code",
        "colab": {}
      },
      "source": [
        "# resnet,vgg,densenet,inception\n",
        "model_name = 'densenet'\n",
        "num_classes = 7\n",
        "feature_extract = False\n",
        "# Initialize the model for this run\n",
        "model_ft, input_size = initialize_model(model_name, num_classes, feature_extract, use_pretrained=True)"
      ],
      "execution_count": 0,
      "outputs": []
    },
    {
      "cell_type": "code",
      "metadata": {
        "id": "WlnFG-sJ_54T",
        "colab_type": "code",
        "colab": {}
      },
      "source": [
        "device = torch.device(\"cuda\" if torch.cuda.is_available() else \"cpu\")\n",
        "\n",
        "# model = nn.Sequential(\n",
        "#     nn.Conv2d(in_channels=1, out_channels=3, kernel_size=4),\n",
        "#     model_ft\n",
        "# )\n",
        "# model.to(device)"
      ],
      "execution_count": 0,
      "outputs": []
    },
    {
      "cell_type": "code",
      "metadata": {
        "id": "RlU3zhmz-nt2",
        "colab_type": "code",
        "colab": {}
      },
      "source": [
        "\n",
        "class CustomNet(nn.Module):\n",
        "    \n",
        "    def __init__(self):\n",
        "        super().__init__()\n",
        "        self.Conv1_1 = nn.Conv2d(in_channels=3, out_channels=64, kernel_size=(3,3), padding=1)\n",
        "        self.Conv1_2 = nn.Conv2d(in_channels=64, out_channels=64, kernel_size=(3,3), padding=1)\n",
        "        self.bn1 = nn.BatchNorm2d(num_features=64)\n",
        "        \n",
        "        self.Conv2_1 = nn.Conv2d(in_channels=64, out_channels=128, kernel_size=(3,3), padding=1)\n",
        "        self.Conv2_2 = nn.Conv2d(in_channels=128, out_channels=128, kernel_size=(3,3), padding=1)\n",
        "        self.bn2 = nn.BatchNorm2d(num_features=128)\n",
        "        \n",
        "        self.Conv3_1 = nn.Conv2d(in_channels=128, out_channels=256, kernel_size=(3,3), padding=1)\n",
        "        self.Conv3_2 = nn.Conv2d(in_channels=256, out_channels=256, kernel_size=(3,3), padding=1)\n",
        "        self.bn3 = nn.BatchNorm2d(num_features=256)\n",
        "        \n",
        "        self.Conv4_1 = nn.Conv2d(in_channels=256, out_channels=512, kernel_size=(3,3), padding=1)\n",
        "        self.Conv4_2 = nn.Conv2d(in_channels=512, out_channels=512, kernel_size=(3,3), padding=1)\n",
        "        self.bn4 = nn.BatchNorm2d(num_features=512)\n",
        "        \n",
        "        self.fc1 = nn.Linear(512*3*3,512)\n",
        "        self.fc2 = nn.Linear(512,256)\n",
        "        self.fc3 = nn.Linear(256,128)\n",
        "        self.fc4 = nn.Linear(128,7)\n",
        "        \n",
        "        self.pool = nn.MaxPool2d(2,2)\n",
        "        self.dropout2d = nn.Dropout2d(p=0.5)\n",
        "        self.dropout1 = nn.Dropout(p=0.4)\n",
        "        self.dropout2 = nn.Dropout(p=0.5)\n",
        "\n",
        "        self.softmax = nn.Softmax(dim=1)\n",
        "        \n",
        "    def forward(self, x):\n",
        "        x = F.relu(self.Conv1_1(x))\n",
        "        x = F.relu(self.Conv1_2(x))\n",
        "        x = self.bn1(x)\n",
        "        x = self.pool(x)\n",
        "        x = self.dropout2d(x)\n",
        "        \n",
        "        x = F.relu(self.Conv2_1(x))\n",
        "        x = self.bn2(x)\n",
        "        x = F.relu(self.Conv2_2(x))\n",
        "        x = self.bn2(x)\n",
        "        x = self.pool(x)\n",
        "        x = self.dropout2(x)\n",
        "        \n",
        "        x = F.relu(self.Conv3_1(x))\n",
        "        x = self.bn3(x)\n",
        "        x = F.relu(self.Conv3_2(x))\n",
        "        x = self.bn3(x)\n",
        "        x = self.pool(x)\n",
        "        x = self.dropout2d(x)\n",
        "        \n",
        "        x = F.relu(self.Conv4_1(x))\n",
        "        x = self.bn4(x)\n",
        "        x = F.relu(self.Conv4_2(x))\n",
        "        x = self.bn4(x)\n",
        "        x = self.pool(x)\n",
        "        x = self.dropout2d(x)\n",
        "        \n",
        "        x = x.view(-1,512*3*3)\n",
        "        \n",
        "        x = F.relu(self.fc1(x))\n",
        "        x = self.dropout1(x)\n",
        "        \n",
        "        x = F.relu(self.fc2(x))\n",
        "        x = self.dropout1(x)\n",
        "        \n",
        "        x = F.relu(self.fc3(x))\n",
        "        x = self.dropout2(x)\n",
        "        \n",
        "        x = self.fc4(x)\n",
        "        \n",
        "        output = self.softmax(x)\n",
        "        \n",
        "        return output"
      ],
      "execution_count": 0,
      "outputs": []
    },
    {
      "cell_type": "code",
      "metadata": {
        "id": "skEa4S8NyONl",
        "colab_type": "code",
        "colab": {}
      },
      "source": [
        "custom_model = CustomNet()\n",
        "custom_model.to(device)"
      ],
      "execution_count": 0,
      "outputs": []
    },
    {
      "cell_type": "code",
      "metadata": {
        "id": "0j5pshKIpbdz",
        "colab_type": "code",
        "colab": {}
      },
      "source": [
        "class AverageMeter(object):\n",
        "    def __init__(self):\n",
        "        self.reset()\n",
        "\n",
        "    def reset(self):\n",
        "        self.val = 0\n",
        "        self.avg = 0\n",
        "        self.sum = 0\n",
        "        self.count = 0\n",
        "\n",
        "    def update(self, val, n=1):\n",
        "        self.val = val\n",
        "        self.sum += val * n\n",
        "        self.count += n\n",
        "        self.avg = self.sum / self.count"
      ],
      "execution_count": 0,
      "outputs": []
    },
    {
      "cell_type": "code",
      "metadata": {
        "id": "oxtto3N13Goh",
        "colab_type": "code",
        "colab": {}
      },
      "source": [
        "# we use Adam optimizer, use cross entropy loss as our loss function\n",
        "optimizer = optim.Adam(custom_model.parameters(), lr=1e-3, betas=(0.9,0.999))\n",
        "criterion = nn.CrossEntropyLoss().to(device)"
      ],
      "execution_count": 0,
      "outputs": []
    },
    {
      "cell_type": "code",
      "metadata": {
        "id": "buJesjzDpdkG",
        "colab_type": "code",
        "colab": {}
      },
      "source": [
        "total_loss_train, total_acc_train = [],[]\n",
        "def train(train_loader, model, criterion, optimizer, epoch):\n",
        "    model.train()\n",
        "    train_loss = AverageMeter()\n",
        "    train_acc = AverageMeter()\n",
        "    curr_iter = (epoch - 1) * len(train_loader)\n",
        "    for i, data in enumerate(train_loader):\n",
        "        images, labels = data\n",
        "        N = images.size(0)\n",
        "#         print('image shape:',images.shape, 'label shape',labels.size(0))\n",
        "        images = Variable(images).to(device)\n",
        "        labels = Variable(labels).to(device)\n",
        "        optimizer.zero_grad()\n",
        "        outputs = model(images)\n",
        "\n",
        "        loss = criterion(outputs, labels)\n",
        "        loss.backward()\n",
        "        optimizer.step()\n",
        "        prediction = outputs.max(1, keepdim=True)[1]\n",
        "        train_acc.update(prediction.eq(labels.view_as(prediction)).sum().item()/N)\n",
        "        train_loss.update(loss.item())\n",
        "        curr_iter += 1\n",
        "        if (i + 1) % 100 == 0:\n",
        "            print('[epoch %d], [iter %d / %d], [train loss %.5f], [train acc %.5f]' % (\n",
        "                epoch, i + 1, len(train_loader), train_loss.avg, train_acc.avg))\n",
        "            total_loss_train.append(train_loss.avg)\n",
        "            total_acc_train.append(train_acc.avg)\n",
        "    return train_loss.avg, train_acc.avg"
      ],
      "execution_count": 0,
      "outputs": []
    },
    {
      "cell_type": "code",
      "metadata": {
        "id": "EUuyK8TCpgRX",
        "colab_type": "code",
        "colab": {}
      },
      "source": [
        "def validate(val_loader, model, criterion, optimizer, epoch):\n",
        "    model.eval()\n",
        "    val_loss = AverageMeter()\n",
        "    val_acc = AverageMeter()\n",
        "    with torch.no_grad():\n",
        "        for i, data in enumerate(val_loader):\n",
        "            images, labels = data\n",
        "            N = images.size(0)\n",
        "            images = Variable(images).to(device)\n",
        "            labels = Variable(labels).to(device)\n",
        "\n",
        "            outputs = model(images)\n",
        "            prediction = outputs.max(1, keepdim=True)[1]\n",
        "\n",
        "            val_acc.update(prediction.eq(labels.view_as(prediction)).sum().item()/N)\n",
        "\n",
        "            val_loss.update(criterion(outputs, labels).item())\n",
        "\n",
        "    print('------------------------------------------------------------')\n",
        "    print('[epoch %d], [val loss %.5f], [val acc %.5f]' % (epoch, val_loss.avg, val_acc.avg))\n",
        "    print('------------------------------------------------------------')\n",
        "    return val_loss.avg, val_acc.avg\n"
      ],
      "execution_count": 0,
      "outputs": []
    },
    {
      "cell_type": "code",
      "metadata": {
        "id": "5m-JIFtsCeFD",
        "colab_type": "code",
        "colab": {}
      },
      "source": [
        ""
      ],
      "execution_count": 0,
      "outputs": []
    },
    {
      "cell_type": "code",
      "metadata": {
        "id": "VYWzwaXjplPD",
        "colab_type": "code",
        "colab": {}
      },
      "source": [
        "import time\n",
        "since = time.time()\n",
        "epoch_num = 10\n",
        "best_val_acc = 0\n",
        "total_loss_val, total_acc_val = [],[]\n",
        "for epoch in tqdm((range(1, epoch_num+1))):\n",
        "    print('\\n')\n",
        "    loss_train, acc_train = train(train_loader, custom_model, criterion, optimizer, epoch)\n",
        "    loss_val, acc_val = validate(val_loader, custom_model, criterion, optimizer, epoch)\n",
        "    total_loss_val.append(loss_val)\n",
        "    total_acc_val.append(acc_val)\n",
        "    if acc_val > best_val_acc:\n",
        "        best_val_acc = acc_val\n",
        "        print('*****************************************************')\n",
        "        print('best record: [epoch %d], [val loss %.5f], [val acc %.5f]' % (epoch, loss_val, acc_val))\n",
        "        print('*****************************************************')\n",
        "\n",
        "print ('Time Taken: ',time.time()-since)"
      ],
      "execution_count": 0,
      "outputs": []
    },
    {
      "cell_type": "code",
      "metadata": {
        "id": "3pD16r4H3qPT",
        "colab_type": "code",
        "colab": {}
      },
      "source": [
        "fig = plt.figure(num = 2)\n",
        "fig1 = fig.add_subplot(2,1,1)\n",
        "fig2 = fig.add_subplot(2,1,2)\n",
        "fig1.plot(total_loss_train, label = 'training loss')\n",
        "fig1.plot(total_acc_train, label = 'training accuracy')\n",
        "fig2.plot(total_loss_val, label = 'validation loss')\n",
        "fig2.plot(total_acc_val, label = 'validation accuracy')\n",
        "plt.legend()\n",
        "plt.show()"
      ],
      "execution_count": 0,
      "outputs": []
    },
    {
      "cell_type": "code",
      "metadata": {
        "id": "SleA7vre3rV2",
        "colab_type": "code",
        "colab": {}
      },
      "source": [
        "def plot_confusion_matrix(cm, classes,\n",
        "                          normalize=False,\n",
        "                          title='Confusion matrix',\n",
        "                          cmap=plt.cm.Blues):\n",
        "    \"\"\"\n",
        "    This function prints and plots the confusion matrix.\n",
        "    Normalization can be applied by setting `normalize=True`.\n",
        "    \"\"\"\n",
        "    import itertools\n",
        "    plt.imshow(cm, interpolation='nearest', cmap=cmap)\n",
        "    plt.title(title)\n",
        "    plt.colorbar()\n",
        "    tick_marks = np.arange(len(classes))\n",
        "    plt.xticks(tick_marks, classes, rotation=45)\n",
        "    plt.yticks(tick_marks, classes)\n",
        "\n",
        "    if normalize:\n",
        "        cm = cm.astype('float') / cm.sum(axis=1)[:, np.newaxis]\n",
        "\n",
        "    thresh = cm.max() / 2.\n",
        "    for i, j in itertools.product(range(cm.shape[0]), range(cm.shape[1])):\n",
        "        plt.text(j, i, cm[i, j],\n",
        "                 horizontalalignment=\"center\",\n",
        "                 color=\"white\" if cm[i, j] > thresh else \"black\")\n",
        "\n",
        "    plt.tight_layout()\n",
        "    plt.ylabel('True label')\n",
        "    plt.xlabel('Predicted label')"
      ],
      "execution_count": 0,
      "outputs": []
    },
    {
      "cell_type": "code",
      "metadata": {
        "id": "Jl0Vv8fBcNe-",
        "colab_type": "code",
        "colab": {}
      },
      "source": [
        "custom_model.eval()\n",
        "y_label = []\n",
        "y_predict = []\n",
        "with torch.no_grad():\n",
        "    for i, data in enumerate(val_loader):\n",
        "        images, labels = data\n",
        "        N = images.size(0)\n",
        "        images = Variable(images).to(device)\n",
        "        outputs = custom_model(images)\n",
        "        prediction = outputs.max(1, keepdim=True)[1]\n",
        "        y_label.extend(labels.cpu().numpy())\n",
        "        y_predict.extend(np.squeeze(prediction.cpu().numpy().T))\n",
        "\n",
        "# compute the confusion matrix\n",
        "confusion_mtx = confusion_matrix(y_label, y_predict)"
      ],
      "execution_count": 0,
      "outputs": []
    },
    {
      "cell_type": "code",
      "metadata": {
        "id": "2VkJK5MHcU99",
        "colab_type": "code",
        "outputId": "7b842a0f-4232-47f5-9c7a-83639835f6c1",
        "colab": {
          "base_uri": "https://localhost:8080/",
          "height": 311
        }
      },
      "source": [
        "plot_labels = ['Angry', 'Disgust', 'Fear', 'Happy', 'Sad', 'Surprised','Neutral']\n",
        "plot_confusion_matrix(confusion_mtx, plot_labels)"
      ],
      "execution_count": 0,
      "outputs": [
        {
          "output_type": "display_data",
          "data": {
            "image/png": "[encoded data removed]",
            "text/plain": [
              "<Figure size 432x288 with 2 Axes>"
            ]
          },
          "metadata": {
            "tags": []
          }
        }
      ]
    },
    {
      "cell_type": "code",
      "metadata": {
        "id": "vioqdw7uC4fx",
        "colab_type": "code",
        "colab": {}
      },
      "source": [
        "# Generate a classification report\n",
        "report = classification_report(y_label, y_predict, target_names=plot_labels)\n",
        "print(report)\n"
      ],
      "execution_count": 0,
      "outputs": []
    },
    {
      "cell_type": "code",
      "metadata": {
        "id": "Yjvz5E4BC58t",
        "colab_type": "code",
        "colab": {}
      },
      "source": [
        "label_frac_error = 1 - np.diag(confusion_mtx) / np.sum(confusion_mtx, axis=1)\n",
        "plt.bar(np.arange(7),label_frac_error)\n",
        "plt.xlabel('True Label')\n",
        "plt.ylabel('Fraction classified incorrectly')"
      ],
      "execution_count": 0,
      "outputs": []
    },
    {
      "cell_type": "code",
      "metadata": {
        "id": "MFyKYBhyIxfb",
        "colab_type": "code",
        "colab": {}
      },
      "source": [
        ""
      ],
      "execution_count": 0,
      "outputs": []
    }
  ]
}